{
 "cells": [
  {
   "cell_type": "markdown",
   "metadata": {},
   "source": [
    "# Download large amount of stock data from the past 25 years. \n",
    "\n",
    "The intention for this notebook is to download large amount of daily stock data (adjusted close prices) via Yahoo finance from 1997-01-01 till 2022-04-01. The data is used for large-scale empirical investigations. \n",
    "\n",
    "The ticker data was downloaded from https://dumbstockapi.com/. "
   ]
  },
  {
   "cell_type": "markdown",
   "metadata": {},
   "source": [
    "## Libraries:"
   ]
  },
  {
   "cell_type": "code",
   "execution_count": 169,
   "metadata": {},
   "outputs": [],
   "source": [
    "import yfinance as yf\n",
    "import numpy as np\n",
    "import pandas as pd\n",
    "import seaborn as sns\n",
    "import matplotlib.pyplot as plt\n",
    "%matplotlib inline"
   ]
  },
  {
   "cell_type": "markdown",
   "metadata": {},
   "source": [
    "## Load stock data:\n",
    "\n",
    "Tickers are first loaded into the notebook. "
   ]
  },
  {
   "cell_type": "code",
   "execution_count": 170,
   "metadata": {},
   "outputs": [
    {
     "data": {
      "text/plain": [
       "0       A\n",
       "1      AA\n",
       "2    AABA\n",
       "3     AAC\n",
       "4     AAL\n",
       "Name: ticker, dtype: object"
      ]
     },
     "execution_count": 170,
     "metadata": {},
     "output_type": "execute_result"
    }
   ],
   "source": [
    "tickers = pd.read_csv('Tickers.csv', delimiter = ',')\n",
    "tickers = tickers['ticker']\n",
    "tickers.head()"
   ]
  },
  {
   "cell_type": "code",
   "execution_count": null,
   "metadata": {},
   "outputs": [],
   "source": [
    "data = []\n",
    "volume = []\n",
    "for i in tickers: \n",
    "    stockdata = yf.download(i, start = \"1997-01-01\", end = \"2022-04-01\")[['Adj Close', 'Volume']]\n",
    "    data.append(stockdata['Adj Close'])\n",
    "    volume.append(stockdata['Volume'])\n",
    "\n",
    "\n",
    "PandasData = pd.DataFrame(data)\n",
    "PandasData = PandasData.transpose()\n",
    "PandasData.columns = tickers\n",
    "\n",
    "PandasVolume = pd.DataFrame(volume)\n",
    "PandasVolume = PandasVolume.transpose()\n",
    "PandasVolume.columns = tickers"
   ]
  },
  {
   "cell_type": "markdown",
   "metadata": {},
   "source": [
    "## Cleaning delisted stocks and unknown tickers from dataframe:\n",
    "\n",
    "As per this [SEC study](https://www.sec.gov/rules/policy/2019/thinly-traded-securities-tm-background-paper.pdf) we define stocks as illiquid, if they have an average daily trading volume less than 100000 shares. Illiquid stocks tends to be much more sensitive to small exogenous events and thus they have the ability to \"skew\" results that are otherwise in line with the general market behaviour.  "
   ]
  },
  {
   "cell_type": "code",
   "execution_count": 187,
   "metadata": {},
   "outputs": [],
   "source": [
    "#Removing all nan columns and rows: \n",
    "PandasData = PandasData.dropna(axis=1, how='all')\n",
    "PandasData = PandasData.dropna(axis=0, how='all')\n",
    "\n",
    "PandasVolume = PandasVolume.dropna(axis=1, how='all')\n",
    "PandasVolume = PandasVolume.dropna(axis=0, how='all')\n"
   ]
  },
  {
   "cell_type": "code",
   "execution_count": 198,
   "metadata": {},
   "outputs": [],
   "source": [
    "#there are negative values. We remove columns with negative values and average daily trading volume less than 100000 stocks:\n",
    "PandasData = PandasData.drop(PandasData.columns[(PandasVolume.mean() < 100000)], axis = 1)\n",
    "PandasData = PandasData.drop(PandasData.columns[(PandasData < 0).any()], axis = 1)\n",
    "\n",
    "#sees difference in columns:\n",
    "#set(PandasVolume.columns) ^ set(PandasData.columns)\n"
   ]
  },
  {
   "cell_type": "markdown",
   "metadata": {},
   "source": [
    "## Plotting first 20 stocks in dataframe"
   ]
  },
  {
   "cell_type": "code",
   "execution_count": null,
   "metadata": {},
   "outputs": [],
   "source": [
    "sns.set()\n",
    "sns.set_style(\"white\")\n",
    "plt.figure(figsize = (16,8))\n",
    "plt.margins(x=0)\n",
    "plt.plot(PandasData.index, PandasData.iloc[:,0:20])\n",
    "\n",
    "plt.show()\n"
   ]
  },
  {
   "cell_type": "markdown",
   "metadata": {},
   "source": [
    "## Exporting to Excel CSV file"
   ]
  },
  {
   "cell_type": "code",
   "execution_count": 203,
   "metadata": {},
   "outputs": [],
   "source": [
    "PandasData.to_csv('AdjCloseLargeStockDB.csv', encoding='utf-8')"
   ]
  }
 ],
 "metadata": {
  "interpreter": {
   "hash": "b3ba2566441a7c06988d0923437866b63cedc61552a5af99d1f4fb67d367b25f"
  },
  "kernelspec": {
   "display_name": "Python 3.8.5 64-bit ('base': conda)",
   "language": "python",
   "name": "python3"
  },
  "language_info": {
   "codemirror_mode": {
    "name": "ipython",
    "version": 3
   },
   "file_extension": ".py",
   "mimetype": "text/x-python",
   "name": "python",
   "nbconvert_exporter": "python",
   "pygments_lexer": "ipython3",
   "version": "3.8.5"
  },
  "orig_nbformat": 4
 },
 "nbformat": 4,
 "nbformat_minor": 2
}
