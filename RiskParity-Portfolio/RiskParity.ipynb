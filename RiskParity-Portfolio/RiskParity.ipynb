{
 "cells": [
  {
   "cell_type": "markdown",
   "metadata": {},
   "source": [
    "# Risk-targeted risk-parity portfolio: \n",
    "\n",
    "This document computes a similar diversified risk-targeted risk parity portfolio as the  [Man AHL TargetRisk](https://www.man.com/ahl-targetrisk) or [Ray Dalio's All weather portfolio](https://www.optimizedportfolio.com/all-weather-portfolio/). There are some key differences between each portfolio implementation, however, they both try to diversify, equalize the marginal risk contribution and rescale the portfolio to allow for a specific annualized risk level.  "
   ]
  },
  {
   "cell_type": "markdown",
   "metadata": {},
   "source": [
    "Additional links:\n",
    "\n",
    "https://portfolioslab.com/portfolio/ray-dalio-all-weather\n",
    "\n"
   ]
  },
  {
   "cell_type": "code",
   "execution_count": 52,
   "metadata": {},
   "outputs": [],
   "source": [
    "import yfinance as yf\n",
    "import numpy as np \n",
    "import pandas as pd\n",
    "import matplotlib.pyplot as plt"
   ]
  },
  {
   "cell_type": "code",
   "execution_count": 32,
   "metadata": {},
   "outputs": [],
   "source": [
    "def Riskparity(Sigma, b, risktarget):\n",
    "    \"\"\"\n",
    "    Sigma: covariance matrix, \n",
    "    b: Risk contributions. For riskparity this should 1/n for n being amount of assets in universe. \n",
    "    risktarget: Insert risktarget and rescales portfolio. For annualized value then do risktarget * sqrt(252) using the square-root rule. \n",
    "    \"\"\" \n",
    "    import cvxpy as cp\n",
    "\n",
    "    w = cp.Variable(4)  #portfolio weight\n",
    "    obj = 0.5 * cp.quad_form(w, Sigma) - cp.sum(cp.multiply(b, cp.log(w)))  \n",
    "    #objective\n",
    "    constr = [w >= 0] \n",
    "    prob = cp.Problem(cp.Minimize(obj), constr)\n",
    "    prob.solve()\n",
    "    # normalize weights as provided in Palomar documentation: \n",
    "    w = w/cp.sum(w)\n",
    "\n",
    "    portrisk = cp.sqrt(cp.quad_form(w, Sigma))\n",
    "    alpha = risktarget / portrisk\n",
    "    w_new = w * alpha\n",
    "    b_new = cp.multiply(w_new, Sigma @ w_new) / cp.quad_form(w_new, Sigma)  #solution risk budget af rescaling\n",
    "\n",
    "    out = {\"w_new\": w_new.value, \"w\": w.value, \"b_new\": b_new.value}\n",
    "\n",
    "    return(out)\n",
    "\n",
    "def EWMA(returns, lambda):\n",
    "    \"\"\" Computes the simple multivariate Exponential Moving Average estimator.\n",
    "\n",
    "    Args:\n",
    "        returns (np.array or dataframe): array or dataframe of returns\n",
    "        lambda (float): Dampening/halflife factor. \n",
    "    \"\"\"\n",
    "\n",
    "    covar = np.zeros(returns.shape[1], returns.shape[1], returns.shape[0])\n",
    "\n",
    "\n",
    "    for i in range(returns):\n",
    "        covar[:,:,i+1] = lambda * covar[:,:,i] + (1-lambda) * returns.T @ returns\n",
    "        covar\n",
    "\n",
    "\n",
    "\n"
   ]
  },
  {
   "cell_type": "code",
   "execution_count": 14,
   "metadata": {},
   "outputs": [],
   "source": [
    "\n",
    "Sigma = np.array([[6.1, 2.9, -0.8, 0.1], \n",
    "                  [2.9, 4.3, -0.3, 0.9], \n",
    "                  [-0.8, -0.3, 1.2, -0.7],\n",
    "                  [0.1, 0.9, -0.7, 2.3]])\n",
    "b = np.ones(4)/4  #risk parity\n",
    "\n",
    "risktarget = 0.1\n"
   ]
  },
  {
   "cell_type": "code",
   "execution_count": 39,
   "metadata": {},
   "outputs": [
    {
     "data": {
      "text/plain": [
       "{'w_new': array([0.32619271, 0.26863174, 1.12768609, 0.64716242]),\n",
       " 'w': array([0.13765305, 0.11336237, 0.47588258, 0.273102  ]),\n",
       " 'b_new': array([0.25000017, 0.24999975, 0.24999992, 0.25000017])}"
      ]
     },
     "execution_count": 39,
     "metadata": {},
     "output_type": "execute_result"
    }
   ],
   "source": [
    "#under square-root rule, we want the annualized volatility to be 10%, 0.1 * sqrt(252)\n",
    "Riskparity(Sigma, b, 0.1 * np.sqrt(252)) #Correct. "
   ]
  },
  {
   "cell_type": "code",
   "execution_count": 43,
   "metadata": {},
   "outputs": [
    {
     "name": "stdout",
     "output_type": "stream",
     "text": [
      "[*********************100%***********************]  1 of 1 completed\n",
      "[*********************100%***********************]  1 of 1 completed\n",
      "[*********************100%***********************]  1 of 1 completed\n",
      "[*********************100%***********************]  1 of 1 completed\n",
      "[*********************100%***********************]  1 of 1 completed\n"
     ]
    }
   ],
   "source": [
    "tickers = [\"SPY\", \"GLD\", \"TLT\", \"HYG\", \"TIP\"] #Stocks, Gold, Longterm Treasuries, Corporate bonds (High Yield), Treasure inflation protected bonds (a bet on rising inflation).\n",
    "data = []\n",
    "\n",
    "for i in tickers: \n",
    "    stockdata = yf.download(i, start = \"1997-01-01\", end = \"2022-04-01\")[['Adj Close', 'Volume']]\n",
    "    data.append(stockdata['Adj Close'])\n"
   ]
  },
  {
   "cell_type": "code",
   "execution_count": 51,
   "metadata": {},
   "outputs": [],
   "source": [
    "DF = pd.DataFrame(data).T\n",
    "DF.columns = tickers\n",
    "DF = DF.dropna(axis = 0)"
   ]
  },
  {
   "cell_type": "code",
   "execution_count": 84,
   "metadata": {},
   "outputs": [],
   "source": [
    "DF_Returns = DF.pct_change().dropna() #Working with linear returns for portfolio modelling. \n",
    "DF_Returns.head()\n",
    "DF_LOGReturns = pd.DataFrame(np.diff(np.log(DF))) #Percentage log-returns"
   ]
  },
  {
   "cell_type": "code",
   "execution_count": 94,
   "metadata": {},
   "outputs": [
    {
     "ename": "TypeError",
     "evalue": "cov() missing 1 required positional argument: 'other'",
     "output_type": "error",
     "traceback": [
      "\u001b[1;31m---------------------------------------------------------------------------\u001b[0m",
      "\u001b[1;31mTypeError\u001b[0m                                 Traceback (most recent call last)",
      "\u001b[1;32m<ipython-input-94-6f3d250a1d68>\u001b[0m in \u001b[0;36m<module>\u001b[1;34m\u001b[0m\n\u001b[0;32m      3\u001b[0m \u001b[1;31m#DF_LOGReturns.cov()\u001b[0m\u001b[1;33m\u001b[0m\u001b[1;33m\u001b[0m\u001b[1;33m\u001b[0m\u001b[0m\n\u001b[0;32m      4\u001b[0m \u001b[1;33m\u001b[0m\u001b[0m\n\u001b[1;32m----> 5\u001b[1;33m \u001b[0mDF_LOGReturns\u001b[0m\u001b[1;33m.\u001b[0m\u001b[0miloc\u001b[0m\u001b[1;33m[\u001b[0m\u001b[1;36m0\u001b[0m\u001b[1;33m,\u001b[0m\u001b[1;33m:\u001b[0m\u001b[1;33m]\u001b[0m\u001b[1;33m.\u001b[0m\u001b[0mcov\u001b[0m\u001b[1;33m(\u001b[0m\u001b[1;33m)\u001b[0m\u001b[1;33m\u001b[0m\u001b[1;33m\u001b[0m\u001b[0m\n\u001b[0m",
      "\u001b[1;31mTypeError\u001b[0m: cov() missing 1 required positional argument: 'other'"
     ]
    }
   ],
   "source": [
    "DF_LOGReturns.iloc[0,:].T @ DF_LOGReturns.iloc[0,:]\n",
    "\n",
    "\n",
    "#DF_LOGReturns.cov()"
   ]
  }
 ],
 "metadata": {
  "kernelspec": {
   "display_name": "Python 3.8.5 ('base')",
   "language": "python",
   "name": "python3"
  },
  "language_info": {
   "codemirror_mode": {
    "name": "ipython",
    "version": 3
   },
   "file_extension": ".py",
   "mimetype": "text/x-python",
   "name": "python",
   "nbconvert_exporter": "python",
   "pygments_lexer": "ipython3",
   "version": "3.8.5"
  },
  "orig_nbformat": 4,
  "vscode": {
   "interpreter": {
    "hash": "ad2bdc8ecc057115af97d19610ffacc2b4e99fae6737bb82f5d7fb13d2f2c186"
   }
  }
 },
 "nbformat": 4,
 "nbformat_minor": 2
}
