{
 "cells": [
  {
   "cell_type": "markdown",
   "metadata": {},
   "source": [
    "# Risk-targeted risk-parity portfolio: \n",
    "\n",
    "This document computes a similar diversified risk-targeted risk parity portfolio as the  [Man AHL TargetRisk](https://www.man.com/ahl-targetrisk) or [Ray Dalio's All weather portfolio](https://www.optimizedportfolio.com/all-weather-portfolio/). There are some key differences between each portfolio implementation, however, they both try to diversify, equalize the marginal risk contribution and rescale the portfolio to allow for a specific annualized risk level.  "
   ]
  },
  {
   "cell_type": "code",
   "execution_count": null,
   "metadata": {},
   "outputs": [],
   "source": [
    "Additional links:\n",
    "\n",
    "https://portfolioslab.com/portfolio/ray-dalio-all-weather\n",
    "\n"
   ]
  },
  {
   "cell_type": "code",
   "execution_count": 4,
   "metadata": {},
   "outputs": [],
   "source": [
    "def Riskparity(Signa, b):\n",
    "    \"\"\"\n",
    "    Sigma: covariance matrix\n",
    "    b: Risk contributions. For riskparity this should 1/n for n being amount of assets in universe. \n",
    "    \"\"\" \n",
    "    import cvxpy as cp\n",
    "\n",
    "    w = cp.Variable(4)  #portfolio weight\n",
    "    obj = 0.5 * cp.quad_form(w, Sigma) - cp.sum(cp.multiply(b, cp.log(w)))  \n",
    "    #objective\n",
    "    constr = [w >= 0] \n",
    "    prob = cp.Problem(cp.Minimize(obj), constr)\n",
    "    prob.solve()\n",
    "    # normalize weights as provided in Palomar documentation: \n",
    "    w = w/cp.sum(w)\n",
    "\n",
    "    #Ex-post estimated risk contributions. \n",
    "    b_w = cp.multiply(w, Sigma @ w) / cp.quad_form(w, Sigma)  #solution risk budget\n",
    "\n",
    "    return(w.value, b_w.value)\n",
    "\n",
    "\n",
    "\n",
    "#You need to do ex-post volatility scaling. "
   ]
  },
  {
   "cell_type": "code",
   "execution_count": 2,
   "metadata": {},
   "outputs": [],
   "source": [
    "\n",
    "import numpy as np \n",
    "\n",
    "\n",
    "Sigma = np.array([[6.1, 2.9, -0.8, 0.1], \n",
    "                  [2.9, 4.3, -0.3, 0.9], \n",
    "                  [-0.8, -0.3, 1.2, -0.7],\n",
    "                  [0.1, 0.9, -0.7, 2.3]])\n",
    "b = np.ones(4)/4  #risk parity\n",
    "\n",
    "\n"
   ]
  },
  {
   "cell_type": "code",
   "execution_count": 5,
   "metadata": {},
   "outputs": [
    {
     "data": {
      "text/plain": [
       "(array([0.13765305, 0.11336237, 0.47588258, 0.273102  ]),\n",
       " array([0.25000017, 0.24999975, 0.24999992, 0.25000017]))"
      ]
     },
     "execution_count": 5,
     "metadata": {},
     "output_type": "execute_result"
    }
   ],
   "source": [
    "Riskparity(Sigma, b) #Correct. "
   ]
  }
 ],
 "metadata": {
  "kernelspec": {
   "display_name": "Python 3.8.5 ('base')",
   "language": "python",
   "name": "python3"
  },
  "language_info": {
   "codemirror_mode": {
    "name": "ipython",
    "version": 3
   },
   "file_extension": ".py",
   "mimetype": "text/x-python",
   "name": "python",
   "nbconvert_exporter": "python",
   "pygments_lexer": "ipython3",
   "version": "3.8.5"
  },
  "orig_nbformat": 4,
  "vscode": {
   "interpreter": {
    "hash": "ad2bdc8ecc057115af97d19610ffacc2b4e99fae6737bb82f5d7fb13d2f2c186"
   }
  }
 },
 "nbformat": 4,
 "nbformat_minor": 2
}
