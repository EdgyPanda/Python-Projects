{
 "cells": [
  {
   "cell_type": "markdown",
   "metadata": {},
   "source": [
    "# Risk-targeted risk-parity portfolio: \n",
    "\n",
    "This document computes a similar diversified risk-targeted risk parity portfolio as the  [Man AHL TargetRisk](https://www.man.com/ahl-targetrisk) or [Ray Dalio's All weather portfolio](https://www.optimizedportfolio.com/all-weather-portfolio/). There are some key differences between each portfolio implementation, however, they both try to diversify, equalize the marginal risk contribution and rescale the portfolio to allow for a specific annualized risk level.  "
   ]
  },
  {
   "cell_type": "markdown",
   "metadata": {},
   "source": [
    "Additional links:\n",
    "\n",
    "https://portfolioslab.com/portfolio/ray-dalio-all-weather\n",
    "\n"
   ]
  },
  {
   "cell_type": "code",
   "execution_count": 52,
   "metadata": {},
   "outputs": [],
   "source": [
    "import yfinance as yf\n",
    "import numpy as np \n",
    "import pandas as pd\n",
    "import matplotlib.pyplot as plt"
   ]
  },
  {
   "cell_type": "code",
   "execution_count": 32,
   "metadata": {},
   "outputs": [],
   "source": [
    "def Riskparity(Sigma, b, risktarget):\n",
    "    \"\"\"\n",
    "    Sigma: covariance matrix, \n",
    "    b: Risk contributions. For riskparity this should 1/n for n being amount of assets in universe. \n",
    "    risktarget: Insert risktarget and rescales portfolio. For annualized value then do risktarget * sqrt(252) using the square-root rule. \n",
    "    \"\"\" \n",
    "    import cvxpy as cp\n",
    "\n",
    "    w = cp.Variable(4)  #portfolio weight\n",
    "    obj = 0.5 * cp.quad_form(w, Sigma) - cp.sum(cp.multiply(b, cp.log(w)))  \n",
    "    #objective\n",
    "    constr = [w >= 0] \n",
    "    prob = cp.Problem(cp.Minimize(obj), constr)\n",
    "    prob.solve()\n",
    "    # normalize weights as provided in Palomar documentation: \n",
    "    w = w/cp.sum(w)\n",
    "\n",
    "    portrisk = cp.sqrt(cp.quad_form(w, Sigma))\n",
    "    alpha = risktarget / portrisk\n",
    "    w_new = w * alpha\n",
    "    b_new = cp.multiply(w_new, Sigma @ w_new) / cp.quad_form(w_new, Sigma)  #solution risk budget af rescaling\n",
    "\n",
    "    out = {\"w_new\": w_new.value, \"w\": w.value, \"b_new\": b_new.value}\n",
    "\n",
    "    return(out)\n",
    "\n",
    "\n",
    "\n",
    "#You need to do ex-post volatility scaling. "
   ]
  },
  {
   "cell_type": "code",
   "execution_count": 14,
   "metadata": {},
   "outputs": [],
   "source": [
    "\n",
    "Sigma = np.array([[6.1, 2.9, -0.8, 0.1], \n",
    "                  [2.9, 4.3, -0.3, 0.9], \n",
    "                  [-0.8, -0.3, 1.2, -0.7],\n",
    "                  [0.1, 0.9, -0.7, 2.3]])\n",
    "b = np.ones(4)/4  #risk parity\n",
    "\n",
    "risktarget = 0.1\n"
   ]
  },
  {
   "cell_type": "code",
   "execution_count": 39,
   "metadata": {},
   "outputs": [
    {
     "data": {
      "text/plain": [
       "{'w_new': array([0.32619271, 0.26863174, 1.12768609, 0.64716242]),\n",
       " 'w': array([0.13765305, 0.11336237, 0.47588258, 0.273102  ]),\n",
       " 'b_new': array([0.25000017, 0.24999975, 0.24999992, 0.25000017])}"
      ]
     },
     "execution_count": 39,
     "metadata": {},
     "output_type": "execute_result"
    }
   ],
   "source": [
    "#under square-root rule, we want the annualized volatility to be 10%, 0.1 * sqrt(252)\n",
    "Riskparity(Sigma, b, 0.1 * np.sqrt(252)) #Correct. "
   ]
  },
  {
   "cell_type": "code",
   "execution_count": 43,
   "metadata": {},
   "outputs": [
    {
     "name": "stdout",
     "output_type": "stream",
     "text": [
      "[*********************100%***********************]  1 of 1 completed\n",
      "[*********************100%***********************]  1 of 1 completed\n",
      "[*********************100%***********************]  1 of 1 completed\n",
      "[*********************100%***********************]  1 of 1 completed\n",
      "[*********************100%***********************]  1 of 1 completed\n"
     ]
    }
   ],
   "source": [
    "tickers = [\"SPY\", \"GLD\", \"TLT\", \"HYG\", \"TIP\"] #Stocks, Gold, Longterm Treasuries, Corporate bonds (High Yield), Treasure inflation protected bonds (a bet on rising inflation).\n",
    "data = []\n",
    "\n",
    "for i in tickers: \n",
    "    stockdata = yf.download(i, start = \"1997-01-01\", end = \"2022-04-01\")[['Adj Close', 'Volume']]\n",
    "    data.append(stockdata['Adj Close'])\n"
   ]
  },
  {
   "cell_type": "code",
   "execution_count": 51,
   "metadata": {},
   "outputs": [],
   "source": [
    "DF = pd.DataFrame(data).T\n",
    "DF.columns = tickers\n",
    "DF = DF.dropna(axis = 0)"
   ]
  },
  {
   "cell_type": "code",
   "execution_count": 56,
   "metadata": {},
   "outputs": [
    {
     "data": {
      "text/html": [
       "<div>\n",
       "<style scoped>\n",
       "    .dataframe tbody tr th:only-of-type {\n",
       "        vertical-align: middle;\n",
       "    }\n",
       "\n",
       "    .dataframe tbody tr th {\n",
       "        vertical-align: top;\n",
       "    }\n",
       "\n",
       "    .dataframe thead th {\n",
       "        text-align: right;\n",
       "    }\n",
       "</style>\n",
       "<table border=\"1\" class=\"dataframe\">\n",
       "  <thead>\n",
       "    <tr style=\"text-align: right;\">\n",
       "      <th></th>\n",
       "      <th>SPY</th>\n",
       "      <th>GLD</th>\n",
       "      <th>TLT</th>\n",
       "      <th>HYG</th>\n",
       "      <th>TIP</th>\n",
       "    </tr>\n",
       "    <tr>\n",
       "      <th>Date</th>\n",
       "      <th></th>\n",
       "      <th></th>\n",
       "      <th></th>\n",
       "      <th></th>\n",
       "      <th></th>\n",
       "    </tr>\n",
       "  </thead>\n",
       "  <tbody>\n",
       "    <tr>\n",
       "      <th>2007-04-12</th>\n",
       "      <td>0.004444</td>\n",
       "      <td>-0.001342</td>\n",
       "      <td>0.000228</td>\n",
       "      <td>0.000671</td>\n",
       "      <td>0.000000</td>\n",
       "    </tr>\n",
       "    <tr>\n",
       "      <th>2007-04-13</th>\n",
       "      <td>0.004563</td>\n",
       "      <td>0.012688</td>\n",
       "      <td>-0.003089</td>\n",
       "      <td>-0.001819</td>\n",
       "      <td>-0.002495</td>\n",
       "    </tr>\n",
       "    <tr>\n",
       "      <th>2007-04-16</th>\n",
       "      <td>0.009496</td>\n",
       "      <td>0.008255</td>\n",
       "      <td>0.005510</td>\n",
       "      <td>-0.000384</td>\n",
       "      <td>0.003201</td>\n",
       "    </tr>\n",
       "    <tr>\n",
       "      <th>2007-04-17</th>\n",
       "      <td>0.002659</td>\n",
       "      <td>-0.005848</td>\n",
       "      <td>0.005593</td>\n",
       "      <td>-0.000480</td>\n",
       "      <td>0.000598</td>\n",
       "    </tr>\n",
       "    <tr>\n",
       "      <th>2007-04-18</th>\n",
       "      <td>0.001223</td>\n",
       "      <td>0.005588</td>\n",
       "      <td>0.004996</td>\n",
       "      <td>0.000288</td>\n",
       "      <td>0.003289</td>\n",
       "    </tr>\n",
       "  </tbody>\n",
       "</table>\n",
       "</div>"
      ],
      "text/plain": [
       "                 SPY       GLD       TLT       HYG       TIP\n",
       "Date                                                        \n",
       "2007-04-12  0.004444 -0.001342  0.000228  0.000671  0.000000\n",
       "2007-04-13  0.004563  0.012688 -0.003089 -0.001819 -0.002495\n",
       "2007-04-16  0.009496  0.008255  0.005510 -0.000384  0.003201\n",
       "2007-04-17  0.002659 -0.005848  0.005593 -0.000480  0.000598\n",
       "2007-04-18  0.001223  0.005588  0.004996  0.000288  0.003289"
      ]
     },
     "execution_count": 56,
     "metadata": {},
     "output_type": "execute_result"
    }
   ],
   "source": [
    "DF_Returns = DF.pct_change().dropna() #Working with linear returns for portfolio modelling. \n",
    "DF_Returns.head()"
   ]
  },
  {
   "cell_type": "code",
   "execution_count": 57,
   "metadata": {},
   "outputs": [
    {
     "data": {
      "text/plain": [
       "[<matplotlib.lines.Line2D at 0x1d6fdaaaa90>]"
      ]
     },
     "execution_count": 57,
     "metadata": {},
     "output_type": "execute_result"
    },
    {
     "data": {
      "image/png": "[encoded data removed]",
      "text/plain": [
       "<Figure size 432x288 with 1 Axes>"
      ]
     },
     "metadata": {
      "needs_background": "light"
     },
     "output_type": "display_data"
    }
   ],
   "source": []
  }
 ],
 "metadata": {
  "kernelspec": {
   "display_name": "Python 3.8.5 ('base')",
   "language": "python",
   "name": "python3"
  },
  "language_info": {
   "codemirror_mode": {
    "name": "ipython",
    "version": 3
   },
   "file_extension": ".py",
   "mimetype": "text/x-python",
   "name": "python",
   "nbconvert_exporter": "python",
   "pygments_lexer": "ipython3",
   "version": "3.8.5"
  },
  "orig_nbformat": 4,
  "vscode": {
   "interpreter": {
    "hash": "ad2bdc8ecc057115af97d19610ffacc2b4e99fae6737bb82f5d7fb13d2f2c186"
   }
  }
 },
 "nbformat": 4,
 "nbformat_minor": 2
}
